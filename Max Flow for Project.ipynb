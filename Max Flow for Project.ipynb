{
 "cells": [
  {
   "cell_type": "code",
   "execution_count": 1,
   "metadata": {},
   "outputs": [
    {
     "name": "stdout",
     "output_type": "stream",
     "text": [
      "Max flow: 50.0\n",
      "These values are per day, how many patients can be helped based on number of ventillators available\n",
      "Flow on each arc: \n",
      "Patients waiting to be seen: 50.0\n",
      "Patients being evaluated by nurse: 50.0\n",
      "Patient Admitted: 47.0\n",
      "Patients Discharged: 3.0\n",
      "Admitted Patients on Ventillators: 17.0\n",
      "Admitted Patients Only in Need of Fluids: 30.0\n",
      "Patients on Ventillators Discharged: 17.0\n",
      "Patients only Needing Fluids Discharged: 30.0\n",
      "Dummy: 50.0\n",
      "Coin0506I Presolve 0 (-16) rows, 0 (-9) columns and 0 (-27) elements\n",
      "Clp3002W Empty problem - 0 rows, 0 columns and 0 elements\n",
      "Clp0000I Optimal - objective value -50\n",
      "Coin0511I After Postsolve, objective -50, infeasibilities - dual 0 (0), primal 0 (0)\n",
      "Clp0032I Optimal objective -50 - 0 iterations time 0.002, Presolve 0.00\n"
     ]
    }
   ],
   "source": [
    "using JuMP, Clp\n",
    "\n",
    "# incidence matrix \n",
    "# (rows are nodes, columns are arcs, entries represent whether arc enters (-1) or leaves (1) each node)\n",
    "#MCNF PROBLEM\n",
    "\n",
    "using JuMP, Clp, NamedArrays\n",
    "#incidence matrix (rows are nodes, columns are arcs, entries rep arc enters(-1) leaves(1) each node)\n",
    "A=[1 0 0 0 0 0 0 0 \n",
    "    -1 1 0 0 0 0 0 0\n",
    "    0 -1 1 1 0 0 0 0 \n",
    "    0 0 -1 0 1 1 0 0\n",
    "    0 0 0 0 -1 0 1 0\n",
    "    0 0 0 0 0 -1 0 1\n",
    "    0 0 0 -1 0 0 -1 -1]\n",
    "# add a dummy arc from sink (5) to source (0)\n",
    "A = [A [-1;0;0;0;0;0;1]]\n",
    "\n",
    "\n",
    "# supply and demand are all 0\n",
    "b = [0, 0, 0, 0, 0, 0,0]\n",
    "\n",
    "# costs should be 0 on every arc except dummy\n",
    "# -1 on dummy arc\n",
    "c = [0, 0, 0, 0, 0, 0, 0, 0, -1]\n",
    "\n",
    "# capacities on each arc. make dummy arc capacity \"big enough\"\n",
    "cap = [50, 50, 50, 6, 17, 30, 50, 50, 50] \n",
    "\n",
    "m = Model(Clp.Optimizer)\n",
    "\n",
    "# variables representing how much flow we send on each arc\n",
    "@variable(m, x[1:9] >= 0)\n",
    "\n",
    "# constraints balance flow into and out of each node\n",
    "@constraint(m, A*x .== b)\n",
    "\n",
    "# don't exceed arc capacity\n",
    "@constraint(m, x .<= cap)\n",
    "\n",
    "# minimize the total cost (same as maximizing flow through dummy arc)\n",
    "@objective(m, Min, sum(c[i]*x[i] for i in 1:9))\n",
    "\n",
    "# solve this instance of the max flow problem\n",
    "optimize!(m)\n",
    "\n",
    "# print out the flow on each arc along with total flow\n",
    "println(\"Max flow: \", -objective_value(m)) # need to take negative\n",
    "println(\"These values are per day, how many patients can be helped based on number of ventillators available\")\n",
    "println(\"Flow on each arc: \")\n",
    "println(\"Patients waiting to be seen: \", value(x[1]))\n",
    "println(\"Patients being evaluated by nurse: \", value(x[2]))\n",
    "println(\"Patient Admitted: \", value(x[3]))\n",
    "println(\"Patients Discharged: \", value(x[4]))\n",
    "println(\"Admitted Patients on Ventillators: \", value(x[5]))\n",
    "println(\"Admitted Patients Only in Need of Fluids: \", value(x[6]))\n",
    "println(\"Patients on Ventillators Discharged: \", value(x[7]))\n",
    "println(\"Patients only Needing Fluids Discharged: \", value(x[8]))\n",
    "println(\"Dummy: \" , value(x[9]))\n"
   ]
  },
  {
   "cell_type": "code",
   "execution_count": null,
   "metadata": {},
   "outputs": [],
   "source": []
  }
 ],
 "metadata": {
  "kernelspec": {
   "display_name": "Julia 1.3.1",
   "language": "julia",
   "name": "julia-1.3"
  },
  "language_info": {
   "file_extension": ".jl",
   "mimetype": "application/julia",
   "name": "julia",
   "version": "1.3.1"
  }
 },
 "nbformat": 4,
 "nbformat_minor": 4
}
