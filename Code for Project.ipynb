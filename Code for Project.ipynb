{
 "cells": [
  {
   "cell_type": "markdown",
   "metadata": {},
   "source": [
    "TO DO:\n",
    "### Find relative numbers for initial supplies, required equipment, treatment node capacities, and treatment node times\n",
    "### Create treatment path (steps in treatment, capacities of each node, time to complete each step)\n",
    "### Write models in code and solve\n",
    "#### Write and Format report\n",
    "   "
   ]
  },
  {
   "cell_type": "code",
   "execution_count": 16,
   "metadata": {},
   "outputs": [
    {
     "ename": "LoadError",
     "evalue": "syntax: invalid iteration specification",
     "output_type": "error",
     "traceback": [
      "syntax: invalid iteration specification",
      ""
     ]
    }
   ],
   "source": [
    "#treatment path \n",
    "using JuMP, Clp, NamedArrays\n",
    "\n",
    "#tasks are hospital arrival(S), nurse evaluation(NE), condition decision(CD), breathing support decision(BS)\n",
    "tasks = [:S, :NE, :CD, :BS, :HL, :LL, :D]\n",
    "arcs = [(:S,:NE), (:NE,:CD), (:CD,:D), (:CD, :BS), (:BS, :HL), (:BD, :LL), (:LL,:D) (:HL, :D)]\n",
    "\n",
    "#time(min) nurses needed per patient for the tasks per day, last 2 are cumulative total for day \n",
    "task_time = Dict(zip(tasks, [0, 45, 20, 30, 60])) \n",
    "#last node should be only 30 min for level 2's, 60 min for level 3's and 4's\n",
    "\n",
    "#matrix for patient demand of each level each day\n",
    "day = [:1,:2,:3,:4,:5,:6,:7]\n",
    "severity = [:Pat_1, :Pat_2, :Pat_3, :Pat_4]\n",
    "length_stay = [1, 3, 5, 10] #length of stay for each level of severity\n",
    "\n",
    "#amount of time nurses spend with each patient severity per day \n",
    "time_per_level_day=[65, 125, 155, 155]\n",
    "\n",
    "demand = NamedArray([8.0   7.0  13.0   8.0   9.0   7.0   9.0\n",
    "                    23.0  24.0  26.0  27.0  28.0  30.0  31.0\n",
    "                    11.0  11.0  11.0  11.0  12.0  12.0  12.0\n",
    "                    11.0  11.0  11.0  11.0  12.0  12.0  12.0],(severity,day), (\"Severity\",\"Day\"))\n",
    "\n",
    "i=1     \n",
    "for i <= 7 \n",
    "    total_time_nurses = time_per_level_day[1] * demand[i,1] + time_per_level_day[2] * demand[i,2] + time_per_level_day[3] * demand[i,3]+time_per_level_day[4] * demand[i,4]\n",
    "    i=i+1\n",
    "end\n",
    "\n",
    "total_time_nurses\n",
    "\n",
    "\n"
   ]
  },
  {
   "cell_type": "code",
   "execution_count": 21,
   "metadata": {},
   "outputs": [
    {
     "ename": "MethodError",
     "evalue": "MethodError: no method matching broadcasted_type(::Base.Broadcast.ArrayStyle{NamedArray{Float64,2,Array{Float64,2},Tuple{OrderedCollections.OrderedDict{Symbol,Int64},OrderedCollections.OrderedDict{Int64,Int64}}}}, ::Base.HasShape{2}, ::Type{GenericAffExpr{Float64,VariableRef}})\nClosest candidates are:\n  broadcasted_type(!Matched::Base.Broadcast.DefaultArrayStyle{N}, ::Base.HasShape{N}, ::Type{Eltype}) where {N, Eltype} at C:\\Users\\macke\\.julia\\packages\\MutableArithmetics\\NuiNA\\src\\broadcast.jl:2\n  broadcasted_type(!Matched::SparseArrays.HigherOrderFns.PromoteToSparse, ::Base.HasShape{2}, ::Type{Eltype}) where Eltype at C:\\Users\\macke\\.julia\\packages\\MutableArithmetics\\NuiNA\\src\\sparse_arrays.jl:230\n  broadcasted_type(!Matched::Base.Broadcast.DefaultArrayStyle{N}, ::Base.HasShape{N}, !Matched::Type{Bool}) where N at C:\\Users\\macke\\.julia\\packages\\MutableArithmetics\\NuiNA\\src\\broadcast.jl:5\n  ...",
     "output_type": "error",
     "traceback": [
      "MethodError: no method matching broadcasted_type(::Base.Broadcast.ArrayStyle{NamedArray{Float64,2,Array{Float64,2},Tuple{OrderedCollections.OrderedDict{Symbol,Int64},OrderedCollections.OrderedDict{Int64,Int64}}}}, ::Base.HasShape{2}, ::Type{GenericAffExpr{Float64,VariableRef}})\nClosest candidates are:\n  broadcasted_type(!Matched::Base.Broadcast.DefaultArrayStyle{N}, ::Base.HasShape{N}, ::Type{Eltype}) where {N, Eltype} at C:\\Users\\macke\\.julia\\packages\\MutableArithmetics\\NuiNA\\src\\broadcast.jl:2\n  broadcasted_type(!Matched::SparseArrays.HigherOrderFns.PromoteToSparse, ::Base.HasShape{2}, ::Type{Eltype}) where Eltype at C:\\Users\\macke\\.julia\\packages\\MutableArithmetics\\NuiNA\\src\\sparse_arrays.jl:230\n  broadcasted_type(!Matched::Base.Broadcast.DefaultArrayStyle{N}, ::Base.HasShape{N}, !Matched::Type{Bool}) where N at C:\\Users\\macke\\.julia\\packages\\MutableArithmetics\\NuiNA\\src\\broadcast.jl:5\n  ...",
      "",
      "Stacktrace:",
      " [1] promote_broadcast(::Function, ::Type, ::Type) at C:\\Users\\macke\\.julia\\packages\\MutableArithmetics\\NuiNA\\src\\broadcast.jl:25",
      " [2] broadcast_mutability(::Type, ::Function, ::Type, ::Type) at C:\\Users\\macke\\.julia\\packages\\MutableArithmetics\\NuiNA\\src\\broadcast.jl:35",
      " [3] broadcast_mutability(::Array{GenericAffExpr{Float64,VariableRef},1}, ::Function, ::Array{GenericAffExpr{Float64,VariableRef},1}, ::NamedArray{Float64,2,Array{Float64,2},Tuple{OrderedCollections.OrderedDict{Symbol,Int64},OrderedCollections.OrderedDict{Int64,Int64}}}) at C:\\Users\\macke\\.julia\\packages\\MutableArithmetics\\NuiNA\\src\\broadcast.jl:41",
      " [4] broadcast!(::Function, ::Array{GenericAffExpr{Float64,VariableRef},1}, ::NamedArray{Float64,2,Array{Float64,2},Tuple{OrderedCollections.OrderedDict{Symbol,Int64},OrderedCollections.OrderedDict{Int64,Int64}}}) at C:\\Users\\macke\\.julia\\packages\\MutableArithmetics\\NuiNA\\src\\broadcast.jl:77",
      " [5] top-level scope at C:\\Users\\macke\\.julia\\packages\\MutableArithmetics\\NuiNA\\src\\rewrite.jl:227",
      " [6] top-level scope at C:\\Users\\macke\\.julia\\packages\\JuMP\\MnJQc\\src\\macros.jl:381",
      " [7] top-level scope at In[21]:32"
     ]
    }
   ],
   "source": [
    "#MCNF PROBLEM\n",
    "\n",
    "using JuMP, Clp, NamedArrays\n",
    "#incidence matrix (rows are nodes, columns are arcs, entries rep arc enters(-1) leaves(1) each node)\n",
    "A=[1 0 0 0 0 0 0 0 \n",
    "    -1 1 0 0 0 0 0 0\n",
    "    0 -1 1 1 0 0 0 0 \n",
    "    0 0 -1 0 1 1 0 0\n",
    "    0 0 0 0 -1 0 1 0\n",
    "    0 0 0 0 0 -1 0 1\n",
    "    0 0 0 -1 0 0 -1 -1]\n",
    "# add a dummy arc from sink (5) to source (0)\n",
    "A = [A [-1;0;0;0;0;0;1]]\n",
    "\n",
    "# demand\n",
    "demand = NamedArray([8.0   7.0  13.0   8.0   9.0   7.0   9.0\n",
    "                    23.0  24.0  26.0  27.0  28.0  30.0  31.0\n",
    "                    11.0  11.0  11.0  11.0  12.0  12.0  12.0\n",
    "                    11.0  11.0  11.0  11.0  12.0  12.0  12.0],(severity,day), (\"Severity\",\"Day\"))\n",
    "\n",
    "# costs should be 0 on every arc except dummy\n",
    "# -1 on dummy arc\n",
    "c = [0, 0, 0, 0, 0, 0, 0, 0, 0, 0, 0, -1]\n",
    "\n",
    "# capacities on each arc. make dummy arc capacity \"big enough\"\n",
    "#cap = [10, 8, 5, 5, 4, 10, 7, 6, 3, 10, 14, 100]\n",
    "\n",
    "m = Model(Clp.Optimizer)\n",
    "\n",
    "# variables representing how much flow we send on each arc\n",
    "@variable(m, x[1:9] >= 0)\n",
    "\n",
    "# constraints balance flow into and out of each node\n",
    "@constraint(m, A*x .== demand)\n",
    "\n",
    "# don't exceed arc capacity\n",
    "#@constraint(m, x .<= cap)\n",
    "\n",
    "# minimize the total cost (same as maximizing flow through dummy arc)\n",
    "@objective(m, Min, sum(c[i]*x[i] for i in 1:9))\n",
    "\n",
    "# solve this instance of the max flow problem\n",
    "optimize!(m)\n",
    "\n",
    "# print out the flow on each arc along with total flow\n",
    "println(\"Max flow: \", -objective_value(m)) # need to take negative\n",
    "println(\"Flow on each arc: \")\n",
    "println(\"S-NE: \", value(x[1]))\n",
    "println(\"NE-CD: \", value(x[2]))\n",
    "println(\"CD-BS: \", value(x[3]))\n",
    "println(\"CD-D: \", value(x[4]))\n",
    "println(\"BS-HL: \", value(x[5]))\n",
    "println(\"BS-LL: \", value(x[6]))\n",
    "println(\"HL-D: \", value(x[7]))\n",
    "println(\"LL-D: \", value(x[8]))\n",
    "println(\"Dummy: \", value(x[9]))"
   ]
  },
  {
   "cell_type": "code",
   "execution_count": 18,
   "metadata": {},
   "outputs": [
    {
     "data": {
      "text/plain": [
       "7×8 Array{Int64,2}:\n",
       "  1   0   0   0   0   0   0   0\n",
       " -1   1   0   0   0   0   0   0\n",
       "  0  -1   1   1   0   0   0   0\n",
       "  0   0  -1   0   1   1   0   0\n",
       "  0   0   0   0  -1   0   1   0\n",
       "  0   0   0   0   0  -1   0   1\n",
       "  0   0   0  -1   0   0  -1  -1"
      ]
     },
     "execution_count": 18,
     "metadata": {},
     "output_type": "execute_result"
    }
   ],
   "source": [
    "A"
   ]
  },
  {
   "cell_type": "code",
   "execution_count": 3,
   "metadata": {},
   "outputs": [
    {
     "ename": "UndefVarError",
     "evalue": "UndefVarError: demand not defined",
     "output_type": "error",
     "traceback": [
      "UndefVarError: demand not defined",
      "",
      "Stacktrace:",
      " [1] top-level scope at In[3]:1"
     ]
    }
   ],
   "source": [
    "#LONGEST PATH METHOD\n",
    "\n",
    "pred_list[1,2] = 1;  pred_list[2,3] = 1;  pred_list[2,4] = 1;  pred_list[3,5] = 1; pred_list[4,6] = 1; pred_list[5,6] = 1;\n",
    "pred_list[4,7] = 1; pred_list[6,8] = 1; pred_list[4,9] = 1; pred_list[6,9] = 1; pred_list[4,10] = 1; pred_list[6,11] = 1;\n",
    "pred_list[9,12] = 1; pred_list[7,13] = 1; pred_list[2,14] = 1; pred_list[4,15] = 1; pred_list[14,15] = 1; \n",
    "pred_list[8,16] = 1; pred_list[11,16] = 1; pred_list[14,16] = 1; pred_list[12,17] = 1; pred_list[17,18] = 1; \n",
    "pred_list[10,20] = 1; pred_list[13,20] = 1; pred_list[15,20] = 1; pred_list[16,20] = 1; pred_list[18,20] = 1\n",
    "\n",
    "### MODEL ###\n",
    "\n",
    "m = Model(Clp.Optimizer)\n",
    "\n",
    "@variable(m, x[T] >= 0) # variable for the time we begin each task\n",
    "\n",
    "# create constraint for every pair of tasks (i,j) where task j is preceded by task i\n",
    "@constraint(m,constr[i in T, j in T; pred_list[i,j] == 1], x[j] >= x[i] + duration[i])\n",
    "\n",
    "\n",
    "# minimize the time we start task F (finish project)\n",
    "@objective(m, Min, x[:F])\n",
    "\n",
    "# solve this isntance of the longest path problem\n",
    "optimize!(m)\n",
    "\n",
    "# record the value of the variables\n",
    "xsol = value.(x)\n",
    "\n",
    "println(\"Earliest completion time: \", objective_value(m), \" weeks\")\n",
    "for i in T\n",
    "    println(\"Start task \", i , \" in week \", xsol[i])\n",
    "end"
   ]
  },
  {
   "cell_type": "code",
   "execution_count": null,
   "metadata": {},
   "outputs": [],
   "source": [
    "#arc and node examples\n",
    "\n",
    "nodes= [:s, :a, :b, :c, :d, :e, :f, :g, :h, :i, :j, :k, :l, :t]\n",
    "arcs= [(:s,:a), (:s,:b), (:s,:c), (:a,:d), (:a,:e), (:a,:f), (:b,:d), (\n",
    ":b,:e), (:b,:f), (:c,:d), (:c,:e), (:c,:f),\n",
    "(:d,:g), (:d,:h), (:d,:i), (:e,:g), (:e,:h), (:e,:i), (:f,:g), (:f,:h),\n",
    "(:f, :i), (:g,:j), (:g,:k), (:g,:l),\n",
    "(:h,:j), (:h,:k), (:h,:l), (:i,:j), (:i,:k), (:i,:l), (:j,:t), (:k,:t),\n",
    "(:l,:t)]\n",
    "costs = Dict(zip(arcs,[750, 625, 1000, 625, 1500, 1700, 1425, 1000, 150\n",
    "0, 2125, 2000, 500, 1000, 1625, 2450,\n",
    "1800, 1125, 2250, 2500, 2125, 1250, 1500, 2050, 2325, 2300, 1250, 2125,\n",
    "3000, 2250, 1125, 0, 0, 0]))\n",
    "using JuMP, Clp, NamedArrays\n",
    "m = Model(Clp.Optimizer)\n",
    "@variable(m, x[arcs] >=0)\n",
    "@objective(m, Min, sum(costs[a]*x[a] for a in arcs))\n",
    "for i in nodes\n",
    "    # if node is not source or sink\n",
    "    if i != :s && i != :t\n",
    "    # balance flow into and out of\n",
    "    @constraint(m, sum(x[j] for j in arcs if j[2] == i) == sum(x[j]\n",
    "        for j in arcs if j[1] == i))\n",
    "    end\n",
    "    @constraint(m,sum(x[j] for j in arcs if j[1] == i) == 1)\n",
    "end\n",
    "if i == :t # node is sink\n",
    "@constraint(m,sum(x[j] for j in arcs if j[2] == i) == 1)\n",
    "end\n",
    "end\n",
    "optimize!(m)\n",
    "println(\"The minimized cost is \\$\", objective_value(m))\n",
    "println(\"Build transportation routes as follows: \")\n",
    "for a in arcs\n",
    "println(\" on arc\", a, \"send\", value(x[a]))\n",
    "end"
   ]
  }
 ],
 "metadata": {
  "kernelspec": {
   "display_name": "Julia 1.3.1",
   "language": "julia",
   "name": "julia-1.3"
  },
  "language_info": {
   "file_extension": ".jl",
   "mimetype": "application/julia",
   "name": "julia",
   "version": "1.3.1"
  }
 },
 "nbformat": 4,
 "nbformat_minor": 4
}
