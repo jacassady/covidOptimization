{
 "cells": [
  {
   "cell_type": "markdown",
   "metadata": {},
   "source": [
    "### Min Cost Objective\n",
    "\n",
    "$$ \\min \\sum_{t=1}^{7}Labor\\_Cost\\_Doctor * D_t + Labor\\_Cost\\_Nurse * N_t + C\\_N\\_Mask * N\\_Mask_t + C\\_S\\_Mask * S\\_Mask_t + C\\_Vent * Vent_t + C\\_Glove * Glove_t + C\\_Gown * Gown_t + C\\_Eye\\_Pro * Eye\\_Pro_t + C\\_Flu * Flu_t + C\\_Staff\\_Gown * Staff\\_Gown_t$$\n",
    "   s.t.  \n",
    "   $$ 4\\_D\\_Req * D_t + 4\\_N\\_Req * N_t \\ge 4\\_Pat_t$$\n",
    "   $$ 3\\_D\\_Req * D_t + 3\\_N\\_Req * N_t \\ge 3\\_Pat_t$$\n",
    "   $$ 2\\_D\\_Req * D_t + 2\\_N\\_Req * N_t \\ge 2\\_Pat_t$$\n",
    "   $$ 1\\_N\\_Req * N_t \\ge 1\\_Pat_t $$\n",
    "   $$ D_t = D_{t-1} + On\\_D_t - Off\\_D_t $$\n",
    "   $$ N_t = N_{t-1} + On\\_N_t - Off\\_N_t $$\n",
    "   $$Adm\\_Pat_t = 4\\_Pat_t + 3\\_Pat_t + 2\\_Pat_t $$\n",
    "   $$Staff_t = D_t + N_t $$\n",
    "   $$Tot\\_Pat_t = 4\\_Pat_t + 3\\_Pat_t + 2\\_Pat_t + 1\\_Pat_t $$\n",
    "   $$ Adm\\_Pat_t \\le Num\\_Beds $$\n",
    "   $$ Gown_{t-1} + Gown\\_Order_t = Adm\\_Pat_t + Gown_t $$\n",
    "   $$ Eye\\_Pro_{t-1} + Eye\\_Pro\\_Order_t = Staff_t + Eye\\_Pro_t $$\n",
    "   $$ N\\_Mask_{t-1} + N\\_Mask\\_Order_t = Staff_t + N\\_Mask_t $$\n",
    "   $$ Staff\\_Gown_{t-1} + Staff\\_Gown\\_Order_t = Staff_t + Staff\\_Gown_t $$\n",
    "   $$ S\\_Mask_{t-1} + S\\_Mask\\_Order_t = Tot\\_Pat_t + S\\_Mask_t $$\n",
    "   $$ Flu_{t-1} + Flu\\_Order_t = Req\\_Flu * Adm\\_Pat_t + Flu_t $$\n",
    "   $$ Glove_{t-1} + Glove\\_Order_t = Req\\_Glove * Staff_t + Glove_t$$\n",
    "   $$ Vent_{t-1} + Vent\\_Order_t = 4\\_Pat_t + 3\\_Pat_t + Vent_t $$\n",
    "   $$ Gown_0 = Int\\_Gown $$\n",
    "   $$ Eye\\_Pro_0 = Int\\_Eye\\_Pro $$\n",
    "   $$ N\\_Mask_0 = Int\\_N\\_Mask $$\n",
    "   $$ Staff\\_Gown_0 = Int\\_Staff\\_Gown $$\n",
    "   $$ S\\_Mask_0 = Int\\_S\\_Mask $$\n",
    "   $$ Flu_0 = Int\\_Flu $$\n",
    "   $$ Glove_0 = Int\\_Glove $$\n",
    "   $$ Gown_t, Vent_t, Eye\\_Pro_t, N\\_Mask_t, Staff\\_Gown_t, S\\_Mask_t, Flu_t, Glove_t, D_t, N_t, Gown\\_Order_t, Eye\\_Pro\\_Order_t, N\\_Mask\\_Order_t, Staff\\_Gown\\_Order_t, S\\_Mask\\_Order_t, Flu\\_Order_t, Glove\\_Order_t, Vent\\_Order_t \\ge 0 $$"
   ]
  },
  {
   "cell_type": "markdown",
   "metadata": {},
   "source": [
    "### Patient Treatment Objective\n",
    "\n",
    "* Create Treatment Path  \n",
    "\n",
    "* Include time for each step and capacities for each step  \n",
    "\n",
    "* Create logical constraints for different patient severities\n"
   ]
  },
  {
   "cell_type": "code",
   "execution_count": null,
   "metadata": {},
   "outputs": [],
   "source": []
  }
 ],
 "metadata": {
  "kernelspec": {
   "display_name": "Julia 1.3.1",
   "language": "julia",
   "name": "julia-1.3"
  },
  "language_info": {
   "file_extension": ".jl",
   "mimetype": "application/julia",
   "name": "julia",
   "version": "1.3.1"
  }
 },
 "nbformat": 4,
 "nbformat_minor": 2
}
